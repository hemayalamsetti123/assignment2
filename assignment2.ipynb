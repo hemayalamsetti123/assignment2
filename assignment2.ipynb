{
 "cells": [
  {
   "cell_type": "code",
   "execution_count": 1,
   "id": "dd9ba6db-904b-4a1a-b0ce-dfedc7aea7ba",
   "metadata": {},
   "outputs": [
    {
     "name": "stdout",
     "output_type": "stream",
     "text": [
      "Requirement already satisfied: numpy in c:\\users\\hemalatha yalamsetti\\appdata\\local\\programs\\python\\python311\\lib\\site-packages (1.25.2)\n",
      "Note: you may need to restart the kernel to use updated packages.\n"
     ]
    }
   ],
   "source": [
    "pip install numpy"
   ]
  },
  {
   "cell_type": "code",
   "execution_count": 2,
   "id": "a2d148a1-5d59-4a1e-aa31-a99f22880117",
   "metadata": {},
   "outputs": [],
   "source": [
    "import numpy as np"
   ]
  },
  {
   "cell_type": "code",
   "execution_count": 3,
   "id": "c36da2a0-17df-404e-b551-4487ed2a2cb4",
   "metadata": {},
   "outputs": [],
   "source": [
    "#-----------creating one dimention array------------"
   ]
  },
  {
   "cell_type": "code",
   "execution_count": 4,
   "id": "d3b913f3-409d-49e0-807d-b6992fb15a08",
   "metadata": {},
   "outputs": [
    {
     "data": {
      "text/plain": [
       "array([1, 2, 3])"
      ]
     },
     "execution_count": 4,
     "metadata": {},
     "output_type": "execute_result"
    }
   ],
   "source": [
    "D1 = np.array([1,2,3])\n",
    "D1"
   ]
  },
  {
   "cell_type": "code",
   "execution_count": 5,
   "id": "73646a7b-08f2-4cb1-a4c3-0771d7c5d79d",
   "metadata": {},
   "outputs": [
    {
     "name": "stdout",
     "output_type": "stream",
     "text": [
      "1\n"
     ]
    }
   ],
   "source": [
    "print(np.ndim(D1))"
   ]
  },
  {
   "cell_type": "code",
   "execution_count": 6,
   "id": "321db553-8e78-475d-8926-e6844eda1216",
   "metadata": {},
   "outputs": [],
   "source": [
    "#--------------creating two dimention array-----------------"
   ]
  },
  {
   "cell_type": "code",
   "execution_count": 7,
   "id": "89ef0f3a-0fdb-4a50-906c-04e69c7390ac",
   "metadata": {},
   "outputs": [
    {
     "data": {
      "text/plain": [
       "array([[1, 2],\n",
       "       [3, 4]])"
      ]
     },
     "execution_count": 7,
     "metadata": {},
     "output_type": "execute_result"
    }
   ],
   "source": [
    "D2 = np.array([[1,2],[3,4]])\n",
    "D2"
   ]
  },
  {
   "cell_type": "code",
   "execution_count": 8,
   "id": "43279e41-3c5b-4f16-bda3-0d005a69a579",
   "metadata": {},
   "outputs": [
    {
     "name": "stdout",
     "output_type": "stream",
     "text": [
      "2\n"
     ]
    }
   ],
   "source": [
    "print(np.ndim(D2))"
   ]
  },
  {
   "cell_type": "code",
   "execution_count": 9,
   "id": "6371c94d-4fcf-4162-aec3-bfbdf39767ee",
   "metadata": {},
   "outputs": [],
   "source": [
    "#----------------creating three dimention array--------------"
   ]
  },
  {
   "cell_type": "code",
   "execution_count": 10,
   "id": "a11860c5-2ede-4bb0-a3b4-bbdcbbe38718",
   "metadata": {},
   "outputs": [
    {
     "data": {
      "text/plain": [
       "array([[[19, 65, 43],\n",
       "        [ 7,  8,  9],\n",
       "        [11, 12, 13]]])"
      ]
     },
     "execution_count": 10,
     "metadata": {},
     "output_type": "execute_result"
    }
   ],
   "source": [
    "D3 = np.array([[[19,65,43],[7,8,9],[11,12,13]]])\n",
    "D3"
   ]
  },
  {
   "cell_type": "code",
   "execution_count": 11,
   "id": "7a2196c2-d6b8-4f1a-9560-07923e5ad107",
   "metadata": {},
   "outputs": [
    {
     "name": "stdout",
     "output_type": "stream",
     "text": [
      "3\n"
     ]
    }
   ],
   "source": [
    "print(np.ndim(D3))"
   ]
  },
  {
   "cell_type": "code",
   "execution_count": 12,
   "id": "3b187798-a5d4-447a-9e41-369eb06cf13f",
   "metadata": {},
   "outputs": [],
   "source": [
    "#---------------creating four dimention array-------------------"
   ]
  },
  {
   "cell_type": "code",
   "execution_count": 13,
   "id": "e611b131-0549-4336-8ea1-78c705716bf9",
   "metadata": {},
   "outputs": [
    {
     "data": {
      "text/plain": [
       "array([[[[1, 2, 3, 4],\n",
       "         [4, 5, 6, 7],\n",
       "         [6, 7, 8, 9],\n",
       "         [4, 8, 9, 5]]]])"
      ]
     },
     "execution_count": 13,
     "metadata": {},
     "output_type": "execute_result"
    }
   ],
   "source": [
    "D4 = np.array([[[[1,2,3,4],[4,5,6,7],[6,7,8,9],[4,8,9,5]]]])\n",
    "D4"
   ]
  },
  {
   "cell_type": "code",
   "execution_count": 14,
   "id": "b140f103-7d9b-41e1-8667-971efeef3187",
   "metadata": {},
   "outputs": [
    {
     "name": "stdout",
     "output_type": "stream",
     "text": [
      "4\n"
     ]
    }
   ],
   "source": [
    "print(np.ndim(D4))"
   ]
  },
  {
   "cell_type": "code",
   "execution_count": 15,
   "id": "c8723ebe-627f-4fa7-820b-525fd9c42130",
   "metadata": {},
   "outputs": [],
   "source": [
    "#------------------creating five dimention array----------------"
   ]
  },
  {
   "cell_type": "code",
   "execution_count": 16,
   "id": "cac1e412-d786-4a2c-8ff6-7c6181d646bc",
   "metadata": {},
   "outputs": [
    {
     "data": {
      "text/plain": [
       "array([[[[[ 1,  2,  3,  4, 15],\n",
       "          [ 2, 23, 44,  5, 16],\n",
       "          [32, 14, 51,  6,  7],\n",
       "          [ 1,  2,  3,  7,  8],\n",
       "          [11, 12, 13, 14, 15]]]]])"
      ]
     },
     "execution_count": 16,
     "metadata": {},
     "output_type": "execute_result"
    }
   ],
   "source": [
    "D5 = np.array([[[[[1,2,3,4,15],[2,23,44,5,16],[32,14,51,6,7],[1,2,3,7,8],[11,12,13,14,15]]]]])\n",
    "D5"
   ]
  },
  {
   "cell_type": "code",
   "execution_count": 17,
   "id": "3198674d-093b-470b-a81a-43bd7c5c024a",
   "metadata": {},
   "outputs": [
    {
     "name": "stdout",
     "output_type": "stream",
     "text": [
      "5\n"
     ]
    }
   ],
   "source": [
    "print(np.ndim(D5))"
   ]
  },
  {
   "cell_type": "code",
   "execution_count": 18,
   "id": "9a267b1f-8245-4dcc-a2f9-511c796b43e7",
   "metadata": {},
   "outputs": [],
   "source": [
    "#-------------------finding det for 5 matrices-------------------"
   ]
  },
  {
   "cell_type": "code",
   "execution_count": 19,
   "id": "d35e7cb8-8c84-4da9-89b2-4be1f4148eb1",
   "metadata": {},
   "outputs": [],
   "source": [
    "import numpy as np\n",
    "from numpy import linalg as la"
   ]
  },
  {
   "cell_type": "code",
   "execution_count": 20,
   "id": "20099707-ffda-45d8-82b8-bcffbe88abc9",
   "metadata": {},
   "outputs": [
    {
     "data": {
      "text/plain": [
       "-2.0000000000000004"
      ]
     },
     "execution_count": 20,
     "metadata": {},
     "output_type": "execute_result"
    }
   ],
   "source": [
    "#det1 = la.det(D1)  #gives u a error\n",
    "det2 = la.det(D2)\n",
    "det2"
   ]
  },
  {
   "cell_type": "code",
   "execution_count": 21,
   "id": "2bb25ae1-cce1-42df-addf-905b0ba40a17",
   "metadata": {},
   "outputs": [
    {
     "data": {
      "text/plain": [
       "array([272.])"
      ]
     },
     "execution_count": 21,
     "metadata": {},
     "output_type": "execute_result"
    }
   ],
   "source": [
    "det3 = la.det(D3)\n",
    "det3"
   ]
  },
  {
   "cell_type": "code",
   "execution_count": 22,
   "id": "896bf2fe-4aba-41ce-b85b-46111c757f46",
   "metadata": {},
   "outputs": [
    {
     "data": {
      "text/plain": [
       "array([[1.33226763e-14]])"
      ]
     },
     "execution_count": 22,
     "metadata": {},
     "output_type": "execute_result"
    }
   ],
   "source": [
    "det4 = la.det(D4)\n",
    "det4"
   ]
  },
  {
   "cell_type": "code",
   "execution_count": 23,
   "id": "e9f85c27-c689-475a-840a-339bf0433f3e",
   "metadata": {},
   "outputs": [
    {
     "data": {
      "text/plain": [
       "array([[[-724350.]]])"
      ]
     },
     "execution_count": 23,
     "metadata": {},
     "output_type": "execute_result"
    }
   ],
   "source": [
    "det5=la.det(D5)\n",
    "det5"
   ]
  },
  {
   "cell_type": "code",
   "execution_count": 24,
   "id": "e95f6d75-de55-4dda-affa-15db5ad59967",
   "metadata": {},
   "outputs": [],
   "source": [
    "#---------------finding transpose of the matrix---------------"
   ]
  },
  {
   "cell_type": "code",
   "execution_count": 25,
   "id": "c5cb336c-b0ff-4c59-a934-a5e0e7e81ccf",
   "metadata": {},
   "outputs": [
    {
     "name": "stdout",
     "output_type": "stream",
     "text": [
      "[1 2 3]\n"
     ]
    }
   ],
   "source": [
    "print(D1.T)"
   ]
  },
  {
   "cell_type": "code",
   "execution_count": 26,
   "id": "2f741588-e23f-441d-a789-f8a33f7b7954",
   "metadata": {},
   "outputs": [
    {
     "name": "stdout",
     "output_type": "stream",
     "text": [
      "[[1 3]\n",
      " [2 4]]\n"
     ]
    }
   ],
   "source": [
    "print(D2.T)"
   ]
  },
  {
   "cell_type": "code",
   "execution_count": 27,
   "id": "d318cff1-a8ee-4cf7-895b-21d6c7d809d8",
   "metadata": {},
   "outputs": [
    {
     "name": "stdout",
     "output_type": "stream",
     "text": [
      "[[[19]\n",
      "  [ 7]\n",
      "  [11]]\n",
      "\n",
      " [[65]\n",
      "  [ 8]\n",
      "  [12]]\n",
      "\n",
      " [[43]\n",
      "  [ 9]\n",
      "  [13]]]\n"
     ]
    }
   ],
   "source": [
    "print(D3.T)"
   ]
  },
  {
   "cell_type": "code",
   "execution_count": 28,
   "id": "39809c4b-4363-432b-ad80-d47c81242382",
   "metadata": {},
   "outputs": [
    {
     "name": "stdout",
     "output_type": "stream",
     "text": [
      "[[[[1]]\n",
      "\n",
      "  [[4]]\n",
      "\n",
      "  [[6]]\n",
      "\n",
      "  [[4]]]\n",
      "\n",
      "\n",
      " [[[2]]\n",
      "\n",
      "  [[5]]\n",
      "\n",
      "  [[7]]\n",
      "\n",
      "  [[8]]]\n",
      "\n",
      "\n",
      " [[[3]]\n",
      "\n",
      "  [[6]]\n",
      "\n",
      "  [[8]]\n",
      "\n",
      "  [[9]]]\n",
      "\n",
      "\n",
      " [[[4]]\n",
      "\n",
      "  [[7]]\n",
      "\n",
      "  [[9]]\n",
      "\n",
      "  [[5]]]]\n"
     ]
    }
   ],
   "source": [
    "print(D4.T)"
   ]
  },
  {
   "cell_type": "code",
   "execution_count": 29,
   "id": "0f5f8f4e-a396-42c0-9dab-e8be005d56b2",
   "metadata": {},
   "outputs": [
    {
     "name": "stdout",
     "output_type": "stream",
     "text": [
      "[[[[[ 1]]]\n",
      "\n",
      "\n",
      "  [[[ 2]]]\n",
      "\n",
      "\n",
      "  [[[32]]]\n",
      "\n",
      "\n",
      "  [[[ 1]]]\n",
      "\n",
      "\n",
      "  [[[11]]]]\n",
      "\n",
      "\n",
      "\n",
      " [[[[ 2]]]\n",
      "\n",
      "\n",
      "  [[[23]]]\n",
      "\n",
      "\n",
      "  [[[14]]]\n",
      "\n",
      "\n",
      "  [[[ 2]]]\n",
      "\n",
      "\n",
      "  [[[12]]]]\n",
      "\n",
      "\n",
      "\n",
      " [[[[ 3]]]\n",
      "\n",
      "\n",
      "  [[[44]]]\n",
      "\n",
      "\n",
      "  [[[51]]]\n",
      "\n",
      "\n",
      "  [[[ 3]]]\n",
      "\n",
      "\n",
      "  [[[13]]]]\n",
      "\n",
      "\n",
      "\n",
      " [[[[ 4]]]\n",
      "\n",
      "\n",
      "  [[[ 5]]]\n",
      "\n",
      "\n",
      "  [[[ 6]]]\n",
      "\n",
      "\n",
      "  [[[ 7]]]\n",
      "\n",
      "\n",
      "  [[[14]]]]\n",
      "\n",
      "\n",
      "\n",
      " [[[[15]]]\n",
      "\n",
      "\n",
      "  [[[16]]]\n",
      "\n",
      "\n",
      "  [[[ 7]]]\n",
      "\n",
      "\n",
      "  [[[ 8]]]\n",
      "\n",
      "\n",
      "  [[[15]]]]]\n"
     ]
    }
   ],
   "source": [
    "print(D5.T)"
   ]
  },
  {
   "cell_type": "code",
   "execution_count": 30,
   "id": "974bcff0-878e-4116-9587-cbf0236c7697",
   "metadata": {},
   "outputs": [
    {
     "name": "stdout",
     "output_type": "stream",
     "text": [
      "[[-2.   1. ]\n",
      " [ 1.5 -0.5]]\n"
     ]
    }
   ],
   "source": [
    "#print(la.inv(D1))\n",
    "print(la.inv(D2))"
   ]
  },
  {
   "cell_type": "code",
   "execution_count": 31,
   "id": "912e50e0-a8e8-4f50-9dfc-da582b641104",
   "metadata": {},
   "outputs": [
    {
     "name": "stdout",
     "output_type": "stream",
     "text": [
      "[[[-0.01470588 -1.20955882  0.88602941]\n",
      "  [ 0.02941176 -0.83088235  0.47794118]\n",
      "  [-0.01470588  1.79044118 -1.11397059]]]\n"
     ]
    }
   ],
   "source": [
    "print(la.inv(D3))"
   ]
  },
  {
   "cell_type": "code",
   "execution_count": 32,
   "id": "b447b188-1679-423d-82a8-2c89e8a7a9a6",
   "metadata": {},
   "outputs": [
    {
     "name": "stdout",
     "output_type": "stream",
     "text": [
      "[[[[ 7.50599938e+14 -1.87649984e+15  1.12589991e+15  8.33333333e-02]\n",
      "   [-1.95155984e+15  4.87889960e+15 -2.92733976e+15 -4.16666667e-01]\n",
      "   [ 1.65131986e+15 -4.12829966e+15  2.47697980e+15  5.83333333e-01]\n",
      "   [-4.50359963e+14  1.12589991e+15 -6.75539944e+14 -2.50000000e-01]]]]\n"
     ]
    }
   ],
   "source": [
    "print(la.inv(D4))"
   ]
  },
  {
   "cell_type": "code",
   "execution_count": 33,
   "id": "1a62509e-728d-484f-89b7-8aaf0b051d8d",
   "metadata": {},
   "outputs": [
    {
     "name": "stdout",
     "output_type": "stream",
     "text": [
      "[[[[[ 3.48339891e-02 -3.06205564e-02  1.81818182e-02 -1.15441430e-01\n",
      "      5.09118520e-02]\n",
      "    [-9.15165321e-03  2.17574377e-02 -3.63636364e-02 -2.25457307e-01\n",
      "      1.23157313e-01]\n",
      "    [-2.03672258e-02  1.41782288e-02  1.81818182e-02  1.13867605e-01\n",
      "     -6.39704563e-02]\n",
      "    [-1.05315110e-01 -5.31511010e-03 -2.41810074e-20  2.27031131e-01\n",
      "     -1.00987092e-02]\n",
      "    [ 9.77220957e-02 -2.27790433e-03 -1.03632889e-20 -4.55580866e-02\n",
      "     -4.32801822e-03]]]]]\n"
     ]
    }
   ],
   "source": [
    "print(la.inv(D5))"
   ]
  },
  {
   "cell_type": "code",
   "execution_count": 34,
   "id": "5ab8f345-f28e-4d18-a6ba-eb9f2b1ccd38",
   "metadata": {},
   "outputs": [],
   "source": [
    "#---------------finding trace of the matrix-------------------"
   ]
  },
  {
   "cell_type": "code",
   "execution_count": 35,
   "id": "fae8b397-25c4-4c51-87ee-a379b34cfb1e",
   "metadata": {},
   "outputs": [
    {
     "name": "stdout",
     "output_type": "stream",
     "text": [
      "5\n",
      "[19 65 43]\n",
      "[[1 2 3 4]\n",
      " [4 5 6 7]\n",
      " [6 7 8 9]\n",
      " [4 8 9 5]]\n",
      "[[[ 1  2  3  4 15]\n",
      "  [ 2 23 44  5 16]\n",
      "  [32 14 51  6  7]\n",
      "  [ 1  2  3  7  8]\n",
      "  [11 12 13 14 15]]]\n"
     ]
    }
   ],
   "source": [
    "#print(np.trace(D1))\n",
    "print(np.trace(D2))\n",
    "print(np.trace(D3))\n",
    "print(np.trace(D4))\n",
    "print(np.trace(D5))"
   ]
  },
  {
   "cell_type": "code",
   "execution_count": 36,
   "id": "37c70c69-3b6b-474c-b109-5a93566a53b4",
   "metadata": {},
   "outputs": [],
   "source": [
    "#-----------------finding rank of the matrix--------------------"
   ]
  },
  {
   "cell_type": "code",
   "execution_count": 37,
   "id": "50fe67e9-50f9-4e91-b822-08fbc7dde0ea",
   "metadata": {},
   "outputs": [
    {
     "name": "stdout",
     "output_type": "stream",
     "text": [
      "1\n",
      "2\n",
      "[3]\n",
      "[[3]]\n",
      "[[[5]]]\n"
     ]
    }
   ],
   "source": [
    "print(la.matrix_rank(D1))\n",
    "print(la.matrix_rank(D2))\n",
    "print(la.matrix_rank(D3))\n",
    "print(la.matrix_rank(D4))\n",
    "print(la.matrix_rank(D5))"
   ]
  },
  {
   "cell_type": "code",
   "execution_count": 38,
   "id": "cdd5d517-6974-4b22-b37a-beb4fd0c9441",
   "metadata": {},
   "outputs": [],
   "source": [
    "#-------------------finding diagonals of the matrix----------------"
   ]
  },
  {
   "cell_type": "code",
   "execution_count": 39,
   "id": "7fb82c16-2f3c-45fe-8300-800834b82db3",
   "metadata": {},
   "outputs": [
    {
     "name": "stdout",
     "output_type": "stream",
     "text": [
      "[[1 0 0]\n",
      " [0 2 0]\n",
      " [0 0 3]]\n",
      "[1 4]\n"
     ]
    }
   ],
   "source": [
    "print(np.diag(D1))\n",
    "print(np.diag(D2))\n",
    "#print(np.diag(D3))\n",
    "#print(np.diag(D4))\n",
    "#print(np.diag(D5)) it gives error for D3 and more dimentions"
   ]
  },
  {
   "cell_type": "code",
   "execution_count": 40,
   "id": "5a871f5d-edc8-4150-ba43-a40322632dca",
   "metadata": {},
   "outputs": [],
   "source": [
    "#------------------finding eigen values and eigen vectors--------------"
   ]
  },
  {
   "cell_type": "code",
   "execution_count": 41,
   "id": "5ebbf5dc-9888-43ea-95c5-3c225c642ec7",
   "metadata": {},
   "outputs": [
    {
     "name": "stdout",
     "output_type": "stream",
     "text": [
      "[-0.37228132  5.37228132]\n",
      "[[ 50.63285827 -10.1010308   -0.53182747]]\n",
      "[[[ 2.33876857e+01 -2.63558006e+00 -1.75210566e+00 -7.98944552e-16]]]\n",
      "[[[[ 74.94297768+0.j          14.26053623+7.67083299j\n",
      "     14.26053623-7.67083299j -10.11009509+0.j\n",
      "      3.64604495+0.j        ]]]]\n"
     ]
    }
   ],
   "source": [
    "#print(la.eigvals(D1)) error\n",
    "print(la.eigvals(D2))\n",
    "print(la.eigvals(D3))\n",
    "print(la.eigvals(D4))\n",
    "print(la.eigvals(D5))"
   ]
  },
  {
   "cell_type": "code",
   "execution_count": 42,
   "id": "17674e99-716f-40a0-a1a4-32767c3f7a53",
   "metadata": {},
   "outputs": [],
   "source": [
    "#x,y=la.eig(D1)\n",
    "#print(\"Values:\",x)\n",
    "#print(\"vectors:\",y)"
   ]
  },
  {
   "cell_type": "code",
   "execution_count": 43,
   "id": "e4748433-e181-4d4d-ac67-4d422ec7292f",
   "metadata": {},
   "outputs": [
    {
     "name": "stdout",
     "output_type": "stream",
     "text": [
      "eigen Values: [-0.37228132  5.37228132]\n",
      "eigen vectors: [[-0.82456484 -0.41597356]\n",
      " [ 0.56576746 -0.90937671]]\n"
     ]
    }
   ],
   "source": [
    "x,y=la.eig(D2)\n",
    "print(\"eigen Values:\",x)\n",
    "print(\"eigen vectors:\",y)"
   ]
  },
  {
   "cell_type": "code",
   "execution_count": 44,
   "id": "38ccc617-23ff-4992-a84b-4609c87de684",
   "metadata": {},
   "outputs": [
    {
     "name": "stdout",
     "output_type": "stream",
     "text": [
      "eigen Values: [[ 50.63285827 -10.1010308   -0.53182747]]\n",
      "eigen vectors: [[[-0.9146971  -0.92111118 -0.57007616]\n",
      "  [-0.22154136  0.18623201 -0.32723971]\n",
      "  [-0.33800686  0.34186522  0.75360954]]]\n"
     ]
    }
   ],
   "source": [
    "x,y=la.eig(D3)\n",
    "print(\"eigen Values:\",x)\n",
    "print(\"eigen vectors:\",y)"
   ]
  },
  {
   "cell_type": "code",
   "execution_count": 45,
   "id": "aca6926e-4ecb-4087-9516-7cfa2183b9b7",
   "metadata": {},
   "outputs": [
    {
     "name": "stdout",
     "output_type": "stream",
     "text": [
      "eigen Values: [[[ 2.33876857e+01 -2.63558006e+00 -1.75210566e+00 -7.98944552e-16]]]\n",
      "eigen vectors: [[[[ 0.22854499 -0.56583976 -0.78880879  0.27777778]\n",
      "   [ 0.4726279  -0.3007259  -0.23060725 -0.72222222]\n",
      "   [ 0.63534983 -0.12398332  0.1415271   0.61111111]\n",
      "   [ 0.56632204  0.75763938  0.55187958 -0.16666667]]]]\n"
     ]
    }
   ],
   "source": [
    "x,y=la.eig(D4)\n",
    "print(\"eigen Values:\",x)\n",
    "print(\"eigen vectors:\",y)"
   ]
  },
  {
   "cell_type": "code",
   "execution_count": 46,
   "id": "bc1fc501-575e-4771-a39a-eeb2ec1181d9",
   "metadata": {},
   "outputs": [
    {
     "name": "stdout",
     "output_type": "stream",
     "text": [
      "eigen Values: [[[[ 74.94297768+0.j          14.26053623+7.67083299j\n",
      "     14.26053623-7.67083299j -10.11009509+0.j\n",
      "      3.64604495+0.j        ]]]]\n",
      "eigen vectors: [[[[[ 0.11394133+0.j         -0.26240853-0.24524872j\n",
      "     -0.26240853+0.24524872j -0.49353443+0.j\n",
      "      0.22592903+0.j        ]\n",
      "    [ 0.66776149+0.j          0.75539088+0.j\n",
      "      0.75539088-0.j         -0.64553819+0.j\n",
      "      0.67033752+0.j        ]\n",
      "    [ 0.65762217+0.j         -0.06460707+0.29425416j\n",
      "     -0.06460707-0.29425416j  0.37377786+0.j\n",
      "     -0.29855655+0.j        ]\n",
      "    [ 0.08777968+0.j         -0.16970224-0.14259799j\n",
      "     -0.16970224+0.14259799j -0.15701881+0.j\n",
      "     -0.61643561+0.j        ]\n",
      "    [ 0.31771021+0.j         -0.14910449-0.37182614j\n",
      "     -0.14910449+0.37182614j  0.4187355 +0.j\n",
      "      0.17457036+0.j        ]]]]]\n"
     ]
    }
   ],
   "source": [
    "x,y=la.eig(D5)\n",
    "print(\"eigen Values:\",x)\n",
    "print(\"eigen vectors:\",y)"
   ]
  },
  {
   "cell_type": "code",
   "execution_count": 47,
   "id": "f9fda303-a092-4077-9244-edf53c759322",
   "metadata": {},
   "outputs": [],
   "source": [
    "#-----------------finding Sum(),cumsum(),min(),max(),count(),mode(),median(),describe()-----------------"
   ]
  },
  {
   "cell_type": "code",
   "execution_count": 48,
   "id": "784d0a77-9291-4120-8542-f4dc5bc1be19",
   "metadata": {},
   "outputs": [
    {
     "name": "stdout",
     "output_type": "stream",
     "text": [
      "Requirement already satisfied: pandas in c:\\users\\hemalatha yalamsetti\\appdata\\local\\programs\\python\\python311\\lib\\site-packages (2.1.0)\n",
      "Requirement already satisfied: numpy>=1.23.2 in c:\\users\\hemalatha yalamsetti\\appdata\\local\\programs\\python\\python311\\lib\\site-packages (from pandas) (1.25.2)\n",
      "Requirement already satisfied: python-dateutil>=2.8.2 in c:\\users\\hemalatha yalamsetti\\appdata\\local\\programs\\python\\python311\\lib\\site-packages (from pandas) (2.8.2)\n",
      "Requirement already satisfied: pytz>=2020.1 in c:\\users\\hemalatha yalamsetti\\appdata\\local\\programs\\python\\python311\\lib\\site-packages (from pandas) (2023.3.post1)\n",
      "Requirement already satisfied: tzdata>=2022.1 in c:\\users\\hemalatha yalamsetti\\appdata\\local\\programs\\python\\python311\\lib\\site-packages (from pandas) (2023.3)\n",
      "Requirement already satisfied: six>=1.5 in c:\\users\\hemalatha yalamsetti\\appdata\\local\\programs\\python\\python311\\lib\\site-packages (from python-dateutil>=2.8.2->pandas) (1.16.0)\n",
      "Note: you may need to restart the kernel to use updated packages.\n"
     ]
    }
   ],
   "source": [
    "pip install pandas"
   ]
  },
  {
   "cell_type": "code",
   "execution_count": 49,
   "id": "d2f00348-dd42-4385-ae8e-3d0e7bb04031",
   "metadata": {},
   "outputs": [],
   "source": [
    "import pandas as pd"
   ]
  },
  {
   "cell_type": "code",
   "execution_count": 50,
   "id": "d2ed13e7-9bd0-440a-b3cb-05f3d74092b9",
   "metadata": {},
   "outputs": [],
   "source": [
    "df={'Name':pd.Series(['Sai','hema','latha','madhu','surekha','ram','raja','siri']),\n",
    "    'Age':pd.Series([10,16,15,18,23,25,30,35]),\n",
    "    'Weight':pd.Series([10,35,35,38,40,50,55,60])\n",
    "   }"
   ]
  },
  {
   "cell_type": "code",
   "execution_count": 51,
   "id": "4c6a6e32-abd3-4a84-ae81-dd585a3297cc",
   "metadata": {},
   "outputs": [
    {
     "data": {
      "text/html": [
       "<div>\n",
       "<style scoped>\n",
       "    .dataframe tbody tr th:only-of-type {\n",
       "        vertical-align: middle;\n",
       "    }\n",
       "\n",
       "    .dataframe tbody tr th {\n",
       "        vertical-align: top;\n",
       "    }\n",
       "\n",
       "    .dataframe thead th {\n",
       "        text-align: right;\n",
       "    }\n",
       "</style>\n",
       "<table border=\"1\" class=\"dataframe\">\n",
       "  <thead>\n",
       "    <tr style=\"text-align: right;\">\n",
       "      <th></th>\n",
       "      <th>Name</th>\n",
       "      <th>Age</th>\n",
       "      <th>Weight</th>\n",
       "    </tr>\n",
       "  </thead>\n",
       "  <tbody>\n",
       "    <tr>\n",
       "      <th>0</th>\n",
       "      <td>Sai</td>\n",
       "      <td>10</td>\n",
       "      <td>10</td>\n",
       "    </tr>\n",
       "    <tr>\n",
       "      <th>1</th>\n",
       "      <td>hema</td>\n",
       "      <td>16</td>\n",
       "      <td>35</td>\n",
       "    </tr>\n",
       "    <tr>\n",
       "      <th>2</th>\n",
       "      <td>latha</td>\n",
       "      <td>15</td>\n",
       "      <td>35</td>\n",
       "    </tr>\n",
       "    <tr>\n",
       "      <th>3</th>\n",
       "      <td>madhu</td>\n",
       "      <td>18</td>\n",
       "      <td>38</td>\n",
       "    </tr>\n",
       "    <tr>\n",
       "      <th>4</th>\n",
       "      <td>surekha</td>\n",
       "      <td>23</td>\n",
       "      <td>40</td>\n",
       "    </tr>\n",
       "    <tr>\n",
       "      <th>5</th>\n",
       "      <td>ram</td>\n",
       "      <td>25</td>\n",
       "      <td>50</td>\n",
       "    </tr>\n",
       "    <tr>\n",
       "      <th>6</th>\n",
       "      <td>raja</td>\n",
       "      <td>30</td>\n",
       "      <td>55</td>\n",
       "    </tr>\n",
       "    <tr>\n",
       "      <th>7</th>\n",
       "      <td>siri</td>\n",
       "      <td>35</td>\n",
       "      <td>60</td>\n",
       "    </tr>\n",
       "  </tbody>\n",
       "</table>\n",
       "</div>"
      ],
      "text/plain": [
       "      Name  Age  Weight\n",
       "0      Sai   10      10\n",
       "1     hema   16      35\n",
       "2    latha   15      35\n",
       "3    madhu   18      38\n",
       "4  surekha   23      40\n",
       "5      ram   25      50\n",
       "6     raja   30      55\n",
       "7     siri   35      60"
      ]
     },
     "execution_count": 51,
     "metadata": {},
     "output_type": "execute_result"
    }
   ],
   "source": [
    "df=pd.DataFrame(df)\n",
    "df"
   ]
  },
  {
   "cell_type": "code",
   "execution_count": 52,
   "id": "c93a4581-3977-4d76-8aa9-794d58d17275",
   "metadata": {},
   "outputs": [
    {
     "name": "stdout",
     "output_type": "stream",
     "text": [
      "Name      Saihemalathamadhusurekharamrajasiri\n",
      "Age                                       172\n",
      "Weight                                    323\n",
      "dtype: object\n"
     ]
    }
   ],
   "source": [
    "print(df.sum())"
   ]
  },
  {
   "cell_type": "code",
   "execution_count": 53,
   "id": "fff3e5d7-dc87-4b74-a2fb-df0629eb66a1",
   "metadata": {},
   "outputs": [
    {
     "name": "stdout",
     "output_type": "stream",
     "text": [
      "                                  Name  Age  Weight\n",
      "0                                  Sai   10      10\n",
      "1                              Saihema   26      45\n",
      "2                         Saihemalatha   41      80\n",
      "3                    Saihemalathamadhu   59     118\n",
      "4             Saihemalathamadhusurekha   82     158\n",
      "5          Saihemalathamadhusurekharam  107     208\n",
      "6      Saihemalathamadhusurekharamraja  137     263\n",
      "7  Saihemalathamadhusurekharamrajasiri  172     323\n"
     ]
    }
   ],
   "source": [
    "print(df.cumsum())"
   ]
  },
  {
   "cell_type": "code",
   "execution_count": 54,
   "id": "b021db6e-31c3-4ba5-aa72-de0c6bb98124",
   "metadata": {},
   "outputs": [
    {
     "data": {
      "text/html": [
       "<div>\n",
       "<style scoped>\n",
       "    .dataframe tbody tr th:only-of-type {\n",
       "        vertical-align: middle;\n",
       "    }\n",
       "\n",
       "    .dataframe tbody tr th {\n",
       "        vertical-align: top;\n",
       "    }\n",
       "\n",
       "    .dataframe thead th {\n",
       "        text-align: right;\n",
       "    }\n",
       "</style>\n",
       "<table border=\"1\" class=\"dataframe\">\n",
       "  <thead>\n",
       "    <tr style=\"text-align: right;\">\n",
       "      <th></th>\n",
       "      <th>Age</th>\n",
       "      <th>Weight</th>\n",
       "    </tr>\n",
       "  </thead>\n",
       "  <tbody>\n",
       "    <tr>\n",
       "      <th>0</th>\n",
       "      <td>10</td>\n",
       "      <td>10</td>\n",
       "    </tr>\n",
       "    <tr>\n",
       "      <th>1</th>\n",
       "      <td>16</td>\n",
       "      <td>35</td>\n",
       "    </tr>\n",
       "    <tr>\n",
       "      <th>2</th>\n",
       "      <td>15</td>\n",
       "      <td>35</td>\n",
       "    </tr>\n",
       "    <tr>\n",
       "      <th>3</th>\n",
       "      <td>18</td>\n",
       "      <td>38</td>\n",
       "    </tr>\n",
       "    <tr>\n",
       "      <th>4</th>\n",
       "      <td>23</td>\n",
       "      <td>40</td>\n",
       "    </tr>\n",
       "    <tr>\n",
       "      <th>5</th>\n",
       "      <td>25</td>\n",
       "      <td>50</td>\n",
       "    </tr>\n",
       "    <tr>\n",
       "      <th>6</th>\n",
       "      <td>30</td>\n",
       "      <td>55</td>\n",
       "    </tr>\n",
       "    <tr>\n",
       "      <th>7</th>\n",
       "      <td>35</td>\n",
       "      <td>60</td>\n",
       "    </tr>\n",
       "  </tbody>\n",
       "</table>\n",
       "</div>"
      ],
      "text/plain": [
       "   Age  Weight\n",
       "0   10      10\n",
       "1   16      35\n",
       "2   15      35\n",
       "3   18      38\n",
       "4   23      40\n",
       "5   25      50\n",
       "6   30      55\n",
       "7   35      60"
      ]
     },
     "execution_count": 54,
     "metadata": {},
     "output_type": "execute_result"
    }
   ],
   "source": [
    "df1={\n",
    "    'Age':pd.Series([10,16,15,18,23,25,30,35]),\n",
    "    'Weight':pd.Series([10,35,35,38,40,50,55,60])\n",
    "}\n",
    "df1=pd.DataFrame(df1)\n",
    "df1"
   ]
  },
  {
   "cell_type": "code",
   "execution_count": 55,
   "id": "0a22ce53-8a8f-42fc-913f-57b1eb7f2bd4",
   "metadata": {},
   "outputs": [
    {
     "name": "stdout",
     "output_type": "stream",
     "text": [
      "Age       21.500\n",
      "Weight    40.375\n",
      "dtype: float64\n"
     ]
    }
   ],
   "source": [
    "print(df1.mean())"
   ]
  },
  {
   "cell_type": "code",
   "execution_count": 56,
   "id": "9567dc0b-db11-499a-9a70-9b33d64924a1",
   "metadata": {},
   "outputs": [
    {
     "name": "stdout",
     "output_type": "stream",
     "text": [
      "Age       20.5\n",
      "Weight    39.0\n",
      "dtype: float64\n"
     ]
    }
   ],
   "source": [
    "print(df1.median())"
   ]
  },
  {
   "cell_type": "code",
   "execution_count": 57,
   "id": "287fe780-824f-4602-ab22-4e3c7d0a0904",
   "metadata": {},
   "outputs": [
    {
     "name": "stdout",
     "output_type": "stream",
     "text": [
      "   Age  Weight\n",
      "0   10    35.0\n",
      "1   15     NaN\n",
      "2   16     NaN\n",
      "3   18     NaN\n",
      "4   23     NaN\n",
      "5   25     NaN\n",
      "6   30     NaN\n",
      "7   35     NaN\n"
     ]
    }
   ],
   "source": [
    "print(df1.mode())"
   ]
  },
  {
   "cell_type": "code",
   "execution_count": 58,
   "id": "be209eba-ef73-41a6-a91e-395cb62a14d9",
   "metadata": {},
   "outputs": [
    {
     "name": "stdout",
     "output_type": "stream",
     "text": [
      "             Age     Weight\n",
      "count   8.000000   8.000000\n",
      "mean   21.500000  40.375000\n",
      "std     8.332381  15.482133\n",
      "min    10.000000  10.000000\n",
      "25%    15.750000  35.000000\n",
      "50%    20.500000  39.000000\n",
      "75%    26.250000  51.250000\n",
      "max    35.000000  60.000000\n"
     ]
    }
   ],
   "source": [
    "print(df1.describe())"
   ]
  },
  {
   "cell_type": "code",
   "execution_count": 59,
   "id": "315f79d4-1e41-4394-9c03-0904c9f01cca",
   "metadata": {},
   "outputs": [
    {
     "name": "stdout",
     "output_type": "stream",
     "text": [
      "Age       35\n",
      "Weight    60\n",
      "dtype: int64\n"
     ]
    }
   ],
   "source": [
    "print(df1.max())"
   ]
  },
  {
   "cell_type": "code",
   "execution_count": 60,
   "id": "0de5a51d-e2e9-4a39-9bfc-15e784289ab5",
   "metadata": {},
   "outputs": [
    {
     "name": "stdout",
     "output_type": "stream",
     "text": [
      "Age       10\n",
      "Weight    10\n",
      "dtype: int64\n"
     ]
    }
   ],
   "source": [
    "print(df1.min())"
   ]
  },
  {
   "cell_type": "code",
   "execution_count": 61,
   "id": "cbb3e798-63b7-4e1c-807a-df7dc57dea9d",
   "metadata": {},
   "outputs": [
    {
     "name": "stdout",
     "output_type": "stream",
     "text": [
      "Age       8\n",
      "Weight    8\n",
      "dtype: int64\n"
     ]
    }
   ],
   "source": [
    "print(df1.count())"
   ]
  },
  {
   "cell_type": "code",
   "execution_count": 62,
   "id": "7fbf1c1f-c876-4c99-bb33-f5a5668c473a",
   "metadata": {},
   "outputs": [],
   "source": [
    "#---------------finding covariance and correlation----------------"
   ]
  },
  {
   "cell_type": "code",
   "execution_count": 63,
   "id": "9dd69c7a-ada3-434d-b216-9e10085a6c1d",
   "metadata": {},
   "outputs": [
    {
     "name": "stdout",
     "output_type": "stream",
     "text": [
      "Requirement already satisfied: scipy in c:\\users\\hemalatha yalamsetti\\appdata\\local\\programs\\python\\python311\\lib\\site-packages (1.11.2)\n",
      "Requirement already satisfied: numpy<1.28.0,>=1.21.6 in c:\\users\\hemalatha yalamsetti\\appdata\\local\\programs\\python\\python311\\lib\\site-packages (from scipy) (1.25.2)\n",
      "Note: you may need to restart the kernel to use updated packages.\n"
     ]
    }
   ],
   "source": [
    "pip install scipy "
   ]
  },
  {
   "cell_type": "code",
   "execution_count": 64,
   "id": "3c8be542-13d9-444b-9507-7f11f53a1627",
   "metadata": {},
   "outputs": [
    {
     "name": "stdout",
     "output_type": "stream",
     "text": [
      "[[  9.16666667  55.33333333]\n",
      " [ 55.33333333 936.26666667]]\n"
     ]
    }
   ],
   "source": [
    "from numpy import cov\n",
    "data1=[1,2,3,4,5,6,7,8,9,10]\n",
    "data2=[11,22,33,44,55,66,77,88,99,19]\n",
    "covariance=cov(data1,data2)\n",
    "print(covariance)"
   ]
  },
  {
   "cell_type": "code",
   "execution_count": 65,
   "id": "43b33155-2aea-4358-8df1-0310649d3a0e",
   "metadata": {},
   "outputs": [
    {
     "name": "stdout",
     "output_type": "stream",
     "text": [
      "PearsonRResult(statistic=0.5972846214175458, pvalue=0.06825702065969003)\n"
     ]
    }
   ],
   "source": [
    "from scipy.stats import pearsonr\n",
    "data1=[1,2,3,4,5,6,7,8,9,10]\n",
    "data2=[11,22,33,44,55,66,77,88,99,19]\n",
    "corr=pearsonr(data1,data2)\n",
    "print(corr)"
   ]
  },
  {
   "cell_type": "code",
   "execution_count": null,
   "id": "3e715c30-fd86-4028-8707-a268a8d0fc7a",
   "metadata": {},
   "outputs": [],
   "source": []
  }
 ],
 "metadata": {
  "kernelspec": {
   "display_name": "Python 3 (ipykernel)",
   "language": "python",
   "name": "python3"
  },
  "language_info": {
   "codemirror_mode": {
    "name": "ipython",
    "version": 3
   },
   "file_extension": ".py",
   "mimetype": "text/x-python",
   "name": "python",
   "nbconvert_exporter": "python",
   "pygments_lexer": "ipython3",
   "version": "3.11.5"
  }
 },
 "nbformat": 4,
 "nbformat_minor": 5
}
